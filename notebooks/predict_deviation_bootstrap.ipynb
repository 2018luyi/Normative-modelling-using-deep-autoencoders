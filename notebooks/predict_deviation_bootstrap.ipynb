{
  "nbformat": 4,
  "nbformat_minor": 0,
  "metadata": {
    "accelerator": "GPU",
    "colab": {
      "name": "Normative_prediciton.ipynb",
      "provenance": [],
      "collapsed_sections": [],
      "include_colab_link": true
    },
    "kernelspec": {
      "display_name": "Python 3",
      "language": "python",
      "name": "python3"
    },
    "language_info": {
      "codemirror_mode": {
        "name": "ipython",
        "version": 3
      },
      "file_extension": ".py",
      "mimetype": "text/x-python",
      "name": "python",
      "nbconvert_exporter": "python",
      "pygments_lexer": "ipython3",
      "version": "3.6.8"
    }
  },
  "cells": [
    {
      "cell_type": "markdown",
      "metadata": {
        "id": "view-in-github",
        "colab_type": "text"
      },
      "source": [
        "<a href=\"https://colab.research.google.com/github/Warvito/Normative-modelling-using-deep-autoencoders/blob/master/notebooks/predict_deviation_bootstrap.ipynb\" target=\"_parent\"><img src=\"https://colab.research.google.com/assets/colab-badge.svg\" alt=\"Open In Colab\"/></a>"
      ]
    },
    {
      "cell_type": "markdown",
      "metadata": {
        "colab_type": "text",
        "id": "YVZp-35UpNAK"
      },
      "source": [
        "# Deviation scores using all trained models\n",
        "\n",
        "Here in this notebook, we implemented an easy way to you try our normative models based on autoencoders trained on the UK Biobank data. **Disclaimer**: this script can not be used for clinical purposes.\n",
        "\n",
        "Let's start!\n",
        "\n",
        "---\n",
        "## Enabling the GPU\n",
        "\n",
        "First, you'll need to enable [GPUs](https://cloud.google.com/gpu) for the notebook:\n",
        "\n",
        "- Navigate to Edit→Notebook Settings\n",
        "- select GPU from the Hardware Accelerator drop-down"
      ]
    },
    {
      "cell_type": "markdown",
      "metadata": {
        "colab_type": "text",
        "id": "rUzvR_q4tFKV"
      },
      "source": [
        "## Load trained models\n",
        "Next, we will load the trained normative models into this colab environment. In our study, we trained 1,000 different models on the UK BIobank using the resampling method called bootstrap method.\n",
        "\n",
        "All the saved files are available at https://www.dropbox.com/s/7e8l5nu8sdmy9fx/models_for_normative_paper_2019.zip?dl=0 .\n",
        "\n",
        "This zipped file contains the models files created using the  bootstrap_train_aae_supervised.py script. The models files are organized in subdirectories where each one correspond to a bootstrap iteration. In each iteration, we stored the data scaler, the age and gender encoders, and the encoder and decoder of the normative model.\n",
        "\n",
        "Besides the models, the zipped file contains two templates files (used later in this notebook)."
      ]
    },
    {
      "cell_type": "code",
      "metadata": {
        "colab_type": "code",
        "id": "xUw80taSTjWW",
        "outputId": "ea77d591-1364-4b7c-9c39-eccf20fe85ad",
        "colab": {
          "base_uri": "https://localhost:8080/",
          "height": 454
        }
      },
      "source": [
        "!wget -O models.zip --no-check-certificate https://www.dropbox.com/s/7e8l5nu8sdmy9fx/models_for_normative_paper_2019.zip?dl=0"
      ],
      "execution_count": 0,
      "outputs": [
        {
          "output_type": "stream",
          "text": [
            "--2019-11-19 11:49:03--  https://www.dropbox.com/s/7e8l5nu8sdmy9fx/models_for_normative_paper_2019.zip?dl=0\n",
            "Resolving www.dropbox.com (www.dropbox.com)... 162.125.65.1, 2620:100:601b:1::a27d:801\n",
            "Connecting to www.dropbox.com (www.dropbox.com)|162.125.65.1|:443... connected.\n",
            "HTTP request sent, awaiting response... 301 Moved Permanently\n",
            "Location: /s/raw/7e8l5nu8sdmy9fx/models_for_normative_paper_2019.zip [following]\n",
            "--2019-11-19 11:49:03--  https://www.dropbox.com/s/raw/7e8l5nu8sdmy9fx/models_for_normative_paper_2019.zip\n",
            "Reusing existing connection to www.dropbox.com:443.\n",
            "HTTP request sent, awaiting response... 302 Found\n",
            "Location: https://uc3f898fe37b884bf5c43b81b71b.dl.dropboxusercontent.com/cd/0/inline/Aso5bsvSNyPSU-lqTKJ1sryNF9q836-NQ4nML4ko5H01SLvIsHb0ZxTXB98VieAHQUFxPDGh2a2gU8I0-sBOefrYsDgZrWeNz55SZ-qmJ-4ttZzO2Qvgx165SdZl2IjdKIc/file# [following]\n",
            "--2019-11-19 11:49:03--  https://uc3f898fe37b884bf5c43b81b71b.dl.dropboxusercontent.com/cd/0/inline/Aso5bsvSNyPSU-lqTKJ1sryNF9q836-NQ4nML4ko5H01SLvIsHb0ZxTXB98VieAHQUFxPDGh2a2gU8I0-sBOefrYsDgZrWeNz55SZ-qmJ-4ttZzO2Qvgx165SdZl2IjdKIc/file\n",
            "Resolving uc3f898fe37b884bf5c43b81b71b.dl.dropboxusercontent.com (uc3f898fe37b884bf5c43b81b71b.dl.dropboxusercontent.com)... 162.125.65.6, 2620:100:6021:6::a27d:4106\n",
            "Connecting to uc3f898fe37b884bf5c43b81b71b.dl.dropboxusercontent.com (uc3f898fe37b884bf5c43b81b71b.dl.dropboxusercontent.com)|162.125.65.6|:443... connected.\n",
            "HTTP request sent, awaiting response... 302 FOUND\n",
            "Location: /cd/0/inline2/Asr6_9nv8kUv9xP3uG5Aot2N66tO6AkP8_xkMcCwYJ7gOpMkNBmyfKgXz21t2Kvbd854WCKERAMI0QvBzM6fGowG0TuvGTllUXemOWMlcLWsMETSdZDuxS5quhkAEhZWfnZllkjLHWHvZeVuOMpRnp2qV7b3Q5x2-aKtxh6W1_MWqUn7z2cJxth8yDGITa-SEjqXG7MRg33anIp7rnJooG638ijvzANv5MePJU32sSMpnxAuXiYXMEN3ftjKwisrZ7nWhLE97rvOfolcCPWrnAIAwx9936vdNmN76HBp8WkDd6iH0HVSr0GCoL7kg2xQp6FyD1CLgX-gJjjw3YlpLCr6UgxjeI4_7Ued0yeULJwa2Q/file [following]\n",
            "--2019-11-19 11:49:04--  https://uc3f898fe37b884bf5c43b81b71b.dl.dropboxusercontent.com/cd/0/inline2/Asr6_9nv8kUv9xP3uG5Aot2N66tO6AkP8_xkMcCwYJ7gOpMkNBmyfKgXz21t2Kvbd854WCKERAMI0QvBzM6fGowG0TuvGTllUXemOWMlcLWsMETSdZDuxS5quhkAEhZWfnZllkjLHWHvZeVuOMpRnp2qV7b3Q5x2-aKtxh6W1_MWqUn7z2cJxth8yDGITa-SEjqXG7MRg33anIp7rnJooG638ijvzANv5MePJU32sSMpnxAuXiYXMEN3ftjKwisrZ7nWhLE97rvOfolcCPWrnAIAwx9936vdNmN76HBp8WkDd6iH0HVSr0GCoL7kg2xQp6FyD1CLgX-gJjjw3YlpLCr6UgxjeI4_7Ued0yeULJwa2Q/file\n",
            "Reusing existing connection to uc3f898fe37b884bf5c43b81b71b.dl.dropboxusercontent.com:443.\n",
            "HTTP request sent, awaiting response... 200 OK\n",
            "Length: 185725553 (177M) [application/zip]\n",
            "Saving to: ‘models.zip’\n",
            "\n",
            "models.zip          100%[===================>] 177.12M  44.2MB/s    in 4.1s    \n",
            "\n",
            "2019-11-19 11:49:08 (43.4 MB/s) - ‘models.zip’ saved [185725553/185725553]\n",
            "\n"
          ],
          "name": "stdout"
        }
      ]
    },
    {
      "cell_type": "markdown",
      "metadata": {
        "colab_type": "text",
        "id": "eHi0frcUvjWV"
      },
      "source": [
        "## Unzipping models files\n"
      ]
    },
    {
      "cell_type": "code",
      "metadata": {
        "colab_type": "code",
        "id": "TOBm7DBZWu-i",
        "colab": {}
      },
      "source": [
        "!unzip models.zip"
      ],
      "execution_count": 0,
      "outputs": []
    },
    {
      "cell_type": "markdown",
      "metadata": {
        "colab_type": "text",
        "id": "b-FkF6BDvsgV"
      },
      "source": [
        "As showed below, in the Google colab environment, there is an arrow mark which looks like “>” at the left-hand side of the cells.\n",
        "\n",
        "<img src=\"https://github.com/Warvito/Normative-modelling-using-deep-autoencoders/blob/master/notebooks/figures/files.png?raw=1\">\n",
        "\n",
        "When you click that you will find a tab with three options, just have to select “Files” to explore the loaded models. "
      ]
    },
    {
      "cell_type": "markdown",
      "metadata": {
        "colab_type": "text",
        "id": "hjjJikyJwniF"
      },
      "source": [
        "## Importing Python libraries\n"
      ]
    },
    {
      "cell_type": "code",
      "metadata": {
        "colab_type": "code",
        "id": "92qHTRkXYOZS",
        "outputId": "db7130df-21c7-428e-fbae-f383ba18a867",
        "colab": {
          "base_uri": "https://localhost:8080/",
          "height": 34
        }
      },
      "source": [
        "%tensorflow_version 2.x\n",
        "from pathlib import Path\n",
        "import warnings\n",
        "\n",
        "import joblib\n",
        "import numpy as np\n",
        "import pandas as pd\n",
        "import tensorflow as tf\n",
        "from tensorflow import keras\n",
        "from google.colab import files\n",
        "from tqdm import tqdm"
      ],
      "execution_count": 0,
      "outputs": [
        {
          "output_type": "stream",
          "text": [
            "TensorFlow 2.x selected.\n"
          ],
          "name": "stdout"
        }
      ]
    },
    {
      "cell_type": "code",
      "metadata": {
        "colab_type": "code",
        "id": "Lr9ZTT8jrtJk",
        "outputId": "99d30bc8-73cc-4001-e1f9-6004bf0cb4e6",
        "colab": {
          "base_uri": "https://localhost:8080/",
          "height": 34
        }
      },
      "source": [
        "tf.__version__"
      ],
      "execution_count": 0,
      "outputs": [
        {
          "output_type": "execute_result",
          "data": {
            "text/plain": [
              "'2.0.0'"
            ]
          },
          "metadata": {
            "tags": []
          },
          "execution_count": 4
        }
      ]
    },
    {
      "cell_type": "markdown",
      "metadata": {
        "colab_type": "text",
        "id": "CLo1uoS8wytB"
      },
      "source": [
        "## Downloading freesurferData.csv and participants.tsv templates\n",
        "In order to make predictions of your data, it is necessary to make it in the format to correctly read by this script. To facilitate this process, we supply the template files to be filled with your data.\n",
        "\n",
        "As shown below, these template files contain the names of the necessary columns to run the script."
      ]
    },
    {
      "cell_type": "code",
      "metadata": {
        "colab_type": "code",
        "id": "QO5bnmgYxi7y",
        "outputId": "5a183f73-3040-4354-8e14-9c7b5e6235ee",
        "colab": {
          "base_uri": "https://localhost:8080/",
          "height": 182
        }
      },
      "source": [
        "pd.read_csv('freesurferData.csv')"
      ],
      "execution_count": 0,
      "outputs": [
        {
          "output_type": "execute_result",
          "data": {
            "text/html": [
              "<div>\n",
              "<style scoped>\n",
              "    .dataframe tbody tr th:only-of-type {\n",
              "        vertical-align: middle;\n",
              "    }\n",
              "\n",
              "    .dataframe tbody tr th {\n",
              "        vertical-align: top;\n",
              "    }\n",
              "\n",
              "    .dataframe thead th {\n",
              "        text-align: right;\n",
              "    }\n",
              "</style>\n",
              "<table border=\"1\" class=\"dataframe\">\n",
              "  <thead>\n",
              "    <tr style=\"text-align: right;\">\n",
              "      <th></th>\n",
              "      <th>Participant_ID</th>\n",
              "      <th>EstimatedTotalIntraCranialVol</th>\n",
              "      <th>Left-Lateral-Ventricle</th>\n",
              "      <th>Left-Inf-Lat-Vent</th>\n",
              "      <th>Left-Cerebellum-White-Matter</th>\n",
              "      <th>Left-Cerebellum-Cortex</th>\n",
              "      <th>Left-Thalamus-Proper</th>\n",
              "      <th>Left-Caudate</th>\n",
              "      <th>Left-Putamen</th>\n",
              "      <th>Left-Pallidum</th>\n",
              "      <th>3rd-Ventricle</th>\n",
              "      <th>4th-Ventricle</th>\n",
              "      <th>Brain-Stem</th>\n",
              "      <th>Left-Hippocampus</th>\n",
              "      <th>Left-Amygdala</th>\n",
              "      <th>CSF</th>\n",
              "      <th>Left-Accumbens-area</th>\n",
              "      <th>Left-VentralDC</th>\n",
              "      <th>Right-Lateral-Ventricle</th>\n",
              "      <th>Right-Inf-Lat-Vent</th>\n",
              "      <th>Right-Cerebellum-White-Matter</th>\n",
              "      <th>Right-Cerebellum-Cortex</th>\n",
              "      <th>Right-Thalamus-Proper</th>\n",
              "      <th>Right-Caudate</th>\n",
              "      <th>Right-Putamen</th>\n",
              "      <th>Right-Pallidum</th>\n",
              "      <th>Right-Hippocampus</th>\n",
              "      <th>Right-Amygdala</th>\n",
              "      <th>Right-Accumbens-area</th>\n",
              "      <th>Right-VentralDC</th>\n",
              "      <th>CC_Posterior</th>\n",
              "      <th>CC_Mid_Posterior</th>\n",
              "      <th>CC_Central</th>\n",
              "      <th>CC_Mid_Anterior</th>\n",
              "      <th>CC_Anterior</th>\n",
              "      <th>lh_bankssts_volume</th>\n",
              "      <th>lh_caudalanteriorcingulate_volume</th>\n",
              "      <th>lh_caudalmiddlefrontal_volume</th>\n",
              "      <th>lh_cuneus_volume</th>\n",
              "      <th>lh_entorhinal_volume</th>\n",
              "      <th>...</th>\n",
              "      <th>lh_superiortemporal_volume</th>\n",
              "      <th>lh_supramarginal_volume</th>\n",
              "      <th>lh_frontalpole_volume</th>\n",
              "      <th>lh_temporalpole_volume</th>\n",
              "      <th>lh_transversetemporal_volume</th>\n",
              "      <th>lh_insula_volume</th>\n",
              "      <th>rh_bankssts_volume</th>\n",
              "      <th>rh_caudalanteriorcingulate_volume</th>\n",
              "      <th>rh_caudalmiddlefrontal_volume</th>\n",
              "      <th>rh_cuneus_volume</th>\n",
              "      <th>rh_entorhinal_volume</th>\n",
              "      <th>rh_fusiform_volume</th>\n",
              "      <th>rh_inferiorparietal_volume</th>\n",
              "      <th>rh_inferiortemporal_volume</th>\n",
              "      <th>rh_isthmuscingulate_volume</th>\n",
              "      <th>rh_lateraloccipital_volume</th>\n",
              "      <th>rh_lateralorbitofrontal_volume</th>\n",
              "      <th>rh_lingual_volume</th>\n",
              "      <th>rh_medialorbitofrontal_volume</th>\n",
              "      <th>rh_middletemporal_volume</th>\n",
              "      <th>rh_parahippocampal_volume</th>\n",
              "      <th>rh_paracentral_volume</th>\n",
              "      <th>rh_parsopercularis_volume</th>\n",
              "      <th>rh_parsorbitalis_volume</th>\n",
              "      <th>rh_parstriangularis_volume</th>\n",
              "      <th>rh_pericalcarine_volume</th>\n",
              "      <th>rh_postcentral_volume</th>\n",
              "      <th>rh_posteriorcingulate_volume</th>\n",
              "      <th>rh_precentral_volume</th>\n",
              "      <th>rh_precuneus_volume</th>\n",
              "      <th>rh_rostralanteriorcingulate_volume</th>\n",
              "      <th>rh_rostralmiddlefrontal_volume</th>\n",
              "      <th>rh_superiorfrontal_volume</th>\n",
              "      <th>rh_superiorparietal_volume</th>\n",
              "      <th>rh_superiortemporal_volume</th>\n",
              "      <th>rh_supramarginal_volume</th>\n",
              "      <th>rh_frontalpole_volume</th>\n",
              "      <th>rh_temporalpole_volume</th>\n",
              "      <th>rh_transversetemporal_volume</th>\n",
              "      <th>rh_insula_volume</th>\n",
              "    </tr>\n",
              "  </thead>\n",
              "  <tbody>\n",
              "    <tr>\n",
              "      <th>0</th>\n",
              "      <td>sub-X</td>\n",
              "      <td>1</td>\n",
              "      <td>1</td>\n",
              "      <td>1</td>\n",
              "      <td>1</td>\n",
              "      <td>1</td>\n",
              "      <td>1</td>\n",
              "      <td>1</td>\n",
              "      <td>1</td>\n",
              "      <td>1</td>\n",
              "      <td>1</td>\n",
              "      <td>1</td>\n",
              "      <td>1</td>\n",
              "      <td>1</td>\n",
              "      <td>1</td>\n",
              "      <td>1</td>\n",
              "      <td>1</td>\n",
              "      <td>1</td>\n",
              "      <td>1</td>\n",
              "      <td>1</td>\n",
              "      <td>1</td>\n",
              "      <td>1</td>\n",
              "      <td>1</td>\n",
              "      <td>1</td>\n",
              "      <td>1</td>\n",
              "      <td>1</td>\n",
              "      <td>1</td>\n",
              "      <td>1</td>\n",
              "      <td>1</td>\n",
              "      <td>1</td>\n",
              "      <td>1</td>\n",
              "      <td>1</td>\n",
              "      <td>1</td>\n",
              "      <td>1</td>\n",
              "      <td>1</td>\n",
              "      <td>1</td>\n",
              "      <td>1</td>\n",
              "      <td>1</td>\n",
              "      <td>1</td>\n",
              "      <td>1</td>\n",
              "      <td>...</td>\n",
              "      <td>1</td>\n",
              "      <td>1</td>\n",
              "      <td>1</td>\n",
              "      <td>1</td>\n",
              "      <td>1</td>\n",
              "      <td>1</td>\n",
              "      <td>1</td>\n",
              "      <td>1</td>\n",
              "      <td>1</td>\n",
              "      <td>1</td>\n",
              "      <td>1</td>\n",
              "      <td>1</td>\n",
              "      <td>1</td>\n",
              "      <td>1</td>\n",
              "      <td>1</td>\n",
              "      <td>1</td>\n",
              "      <td>1</td>\n",
              "      <td>1</td>\n",
              "      <td>1</td>\n",
              "      <td>1</td>\n",
              "      <td>1</td>\n",
              "      <td>1</td>\n",
              "      <td>1</td>\n",
              "      <td>1</td>\n",
              "      <td>1</td>\n",
              "      <td>1</td>\n",
              "      <td>1</td>\n",
              "      <td>1</td>\n",
              "      <td>1</td>\n",
              "      <td>1</td>\n",
              "      <td>1</td>\n",
              "      <td>1</td>\n",
              "      <td>1</td>\n",
              "      <td>1</td>\n",
              "      <td>1</td>\n",
              "      <td>1</td>\n",
              "      <td>1</td>\n",
              "      <td>1</td>\n",
              "      <td>1</td>\n",
              "      <td>1</td>\n",
              "    </tr>\n",
              "  </tbody>\n",
              "</table>\n",
              "<p>1 rows × 103 columns</p>\n",
              "</div>"
            ],
            "text/plain": [
              "  Participant_ID  ...  rh_insula_volume\n",
              "0          sub-X  ...                 1\n",
              "\n",
              "[1 rows x 103 columns]"
            ]
          },
          "metadata": {
            "tags": []
          },
          "execution_count": 10
        }
      ]
    },
    {
      "cell_type": "code",
      "metadata": {
        "colab_type": "code",
        "id": "pKl3fXWgxs8q",
        "outputId": "9e81f7ab-5219-40aa-bb0d-c9a2d497ae45",
        "colab": {
          "base_uri": "https://localhost:8080/",
          "height": 81
        }
      },
      "source": [
        "pd.read_csv('participants.tsv', sep='\\t')"
      ],
      "execution_count": 0,
      "outputs": [
        {
          "output_type": "execute_result",
          "data": {
            "text/html": [
              "<div>\n",
              "<style scoped>\n",
              "    .dataframe tbody tr th:only-of-type {\n",
              "        vertical-align: middle;\n",
              "    }\n",
              "\n",
              "    .dataframe tbody tr th {\n",
              "        vertical-align: top;\n",
              "    }\n",
              "\n",
              "    .dataframe thead th {\n",
              "        text-align: right;\n",
              "    }\n",
              "</style>\n",
              "<table border=\"1\" class=\"dataframe\">\n",
              "  <thead>\n",
              "    <tr style=\"text-align: right;\">\n",
              "      <th></th>\n",
              "      <th>Participant_ID</th>\n",
              "      <th>Gender</th>\n",
              "      <th>Age</th>\n",
              "    </tr>\n",
              "  </thead>\n",
              "  <tbody>\n",
              "    <tr>\n",
              "      <th>0</th>\n",
              "      <td>sub-X</td>\n",
              "      <td>0</td>\n",
              "      <td>60</td>\n",
              "    </tr>\n",
              "  </tbody>\n",
              "</table>\n",
              "</div>"
            ],
            "text/plain": [
              "  Participant_ID  Gender  Age\n",
              "0          sub-X       0   60"
            ]
          },
          "metadata": {
            "tags": []
          },
          "execution_count": 11
        }
      ]
    },
    {
      "cell_type": "markdown",
      "metadata": {
        "colab_type": "text",
        "id": "8vlfd-XWxxZv"
      },
      "source": [
        "The next cells will start the download of the templates.\n",
        "\n",
        "---\n",
        "\n"
      ]
    },
    {
      "cell_type": "code",
      "metadata": {
        "colab_type": "code",
        "id": "jUub_LWSZ-FW",
        "colab": {}
      },
      "source": [
        "files.download('freesurferData.csv')"
      ],
      "execution_count": 0,
      "outputs": []
    },
    {
      "cell_type": "code",
      "metadata": {
        "colab_type": "code",
        "id": "CC_YY2N-dJ9G",
        "colab": {}
      },
      "source": [
        "files.download('participants.tsv')"
      ],
      "execution_count": 0,
      "outputs": []
    },
    {
      "cell_type": "markdown",
      "metadata": {
        "colab_type": "text",
        "id": "3oPjKCaPx5qu"
      },
      "source": [
        "After filled the templates, upload the files to the Google colab environment.\n",
        "\n",
        "**Note: You can create the freesurferData.csv file using our colab script on this** [link](https://colab.research.google.com/github/Warvito/Normative-modelling-using-deep-autoencoders/blob/master/notebooks/freesurfer_organizer.ipynb).\n",
        "\n",
        "Note2: Your data will only be loaded in this runtime of the Google colab. This code is being executed at the Google Cloud Platform by default, and you are not making your data available for our team. If you are concern about uploading your data to the Google Cloud Platform, please, consider executing this notebook in a local runtime in your computer (https://research.google.com/colaboratory/local-runtimes.html)."
      ]
    },
    {
      "cell_type": "markdown",
      "metadata": {
        "colab_type": "text",
        "id": "UOlTkfiwzg47"
      },
      "source": [
        "First, start uploading the freesurferData.csv."
      ]
    },
    {
      "cell_type": "code",
      "metadata": {
        "colab_type": "code",
        "id": "gujhqPurZpxn",
        "outputId": "1ac5cf21-3749-40b8-c764-8ce61acead31",
        "colab": {
          "resources": {
            "http://localhost:8080/nbextensions/google.colab/files.js": {
              "data": "Ly8gQ29weXJpZ2h0IDIwMTcgR29vZ2xlIExMQwovLwovLyBMaWNlbnNlZCB1bmRlciB0aGUgQXBhY2hlIExpY2Vuc2UsIFZlcnNpb24gMi4wICh0aGUgIkxpY2Vuc2UiKTsKLy8geW91IG1heSBub3QgdXNlIHRoaXMgZmlsZSBleGNlcHQgaW4gY29tcGxpYW5jZSB3aXRoIHRoZSBMaWNlbnNlLgovLyBZb3UgbWF5IG9idGFpbiBhIGNvcHkgb2YgdGhlIExpY2Vuc2UgYXQKLy8KLy8gICAgICBodHRwOi8vd3d3LmFwYWNoZS5vcmcvbGljZW5zZXMvTElDRU5TRS0yLjAKLy8KLy8gVW5sZXNzIHJlcXVpcmVkIGJ5IGFwcGxpY2FibGUgbGF3IG9yIGFncmVlZCB0byBpbiB3cml0aW5nLCBzb2Z0d2FyZQovLyBkaXN0cmlidXRlZCB1bmRlciB0aGUgTGljZW5zZSBpcyBkaXN0cmlidXRlZCBvbiBhbiAiQVMgSVMiIEJBU0lTLAovLyBXSVRIT1VUIFdBUlJBTlRJRVMgT1IgQ09ORElUSU9OUyBPRiBBTlkgS0lORCwgZWl0aGVyIGV4cHJlc3Mgb3IgaW1wbGllZC4KLy8gU2VlIHRoZSBMaWNlbnNlIGZvciB0aGUgc3BlY2lmaWMgbGFuZ3VhZ2UgZ292ZXJuaW5nIHBlcm1pc3Npb25zIGFuZAovLyBsaW1pdGF0aW9ucyB1bmRlciB0aGUgTGljZW5zZS4KCi8qKgogKiBAZmlsZW92ZXJ2aWV3IEhlbHBlcnMgZm9yIGdvb2dsZS5jb2xhYiBQeXRob24gbW9kdWxlLgogKi8KKGZ1bmN0aW9uKHNjb3BlKSB7CmZ1bmN0aW9uIHNwYW4odGV4dCwgc3R5bGVBdHRyaWJ1dGVzID0ge30pIHsKICBjb25zdCBlbGVtZW50ID0gZG9jdW1lbnQuY3JlYXRlRWxlbWVudCgnc3BhbicpOwogIGVsZW1lbnQudGV4dENvbnRlbnQgPSB0ZXh0OwogIGZvciAoY29uc3Qga2V5IG9mIE9iamVjdC5rZXlzKHN0eWxlQXR0cmlidXRlcykpIHsKICAgIGVsZW1lbnQuc3R5bGVba2V5XSA9IHN0eWxlQXR0cmlidXRlc1trZXldOwogIH0KICByZXR1cm4gZWxlbWVudDsKfQoKLy8gTWF4IG51bWJlciBvZiBieXRlcyB3aGljaCB3aWxsIGJlIHVwbG9hZGVkIGF0IGEgdGltZS4KY29uc3QgTUFYX1BBWUxPQURfU0laRSA9IDEwMCAqIDEwMjQ7Ci8vIE1heCBhbW91bnQgb2YgdGltZSB0byBibG9jayB3YWl0aW5nIGZvciB0aGUgdXNlci4KY29uc3QgRklMRV9DSEFOR0VfVElNRU9VVF9NUyA9IDMwICogMTAwMDsKCmZ1bmN0aW9uIF91cGxvYWRGaWxlcyhpbnB1dElkLCBvdXRwdXRJZCkgewogIGNvbnN0IHN0ZXBzID0gdXBsb2FkRmlsZXNTdGVwKGlucHV0SWQsIG91dHB1dElkKTsKICBjb25zdCBvdXRwdXRFbGVtZW50ID0gZG9jdW1lbnQuZ2V0RWxlbWVudEJ5SWQob3V0cHV0SWQpOwogIC8vIENhY2hlIHN0ZXBzIG9uIHRoZSBvdXRwdXRFbGVtZW50IHRvIG1ha2UgaXQgYXZhaWxhYmxlIGZvciB0aGUgbmV4dCBjYWxsCiAgLy8gdG8gdXBsb2FkRmlsZXNDb250aW51ZSBmcm9tIFB5dGhvbi4KICBvdXRwdXRFbGVtZW50LnN0ZXBzID0gc3RlcHM7CgogIHJldHVybiBfdXBsb2FkRmlsZXNDb250aW51ZShvdXRwdXRJZCk7Cn0KCi8vIFRoaXMgaXMgcm91Z2hseSBhbiBhc3luYyBnZW5lcmF0b3IgKG5vdCBzdXBwb3J0ZWQgaW4gdGhlIGJyb3dzZXIgeWV0KSwKLy8gd2hlcmUgdGhlcmUgYXJlIG11bHRpcGxlIGFzeW5jaHJvbm91cyBzdGVwcyBhbmQgdGhlIFB5dGhvbiBzaWRlIGlzIGdvaW5nCi8vIHRvIHBvbGwgZm9yIGNvbXBsZXRpb24gb2YgZWFjaCBzdGVwLgovLyBUaGlzIHVzZXMgYSBQcm9taXNlIHRvIGJsb2NrIHRoZSBweXRob24gc2lkZSBvbiBjb21wbGV0aW9uIG9mIGVhY2ggc3RlcCwKLy8gdGhlbiBwYXNzZXMgdGhlIHJlc3VsdCBvZiB0aGUgcHJldmlvdXMgc3RlcCBhcyB0aGUgaW5wdXQgdG8gdGhlIG5leHQgc3RlcC4KZnVuY3Rpb24gX3VwbG9hZEZpbGVzQ29udGludWUob3V0cHV0SWQpIHsKICBjb25zdCBvdXRwdXRFbGVtZW50ID0gZG9jdW1lbnQuZ2V0RWxlbWVudEJ5SWQob3V0cHV0SWQpOwogIGNvbnN0IHN0ZXBzID0gb3V0cHV0RWxlbWVudC5zdGVwczsKCiAgY29uc3QgbmV4dCA9IHN0ZXBzLm5leHQob3V0cHV0RWxlbWVudC5sYXN0UHJvbWlzZVZhbHVlKTsKICByZXR1cm4gUHJvbWlzZS5yZXNvbHZlKG5leHQudmFsdWUucHJvbWlzZSkudGhlbigodmFsdWUpID0+IHsKICAgIC8vIENhY2hlIHRoZSBsYXN0IHByb21pc2UgdmFsdWUgdG8gbWFrZSBpdCBhdmFpbGFibGUgdG8gdGhlIG5leHQKICAgIC8vIHN0ZXAgb2YgdGhlIGdlbmVyYXRvci4KICAgIG91dHB1dEVsZW1lbnQubGFzdFByb21pc2VWYWx1ZSA9IHZhbHVlOwogICAgcmV0dXJuIG5leHQudmFsdWUucmVzcG9uc2U7CiAgfSk7Cn0KCi8qKgogKiBHZW5lcmF0b3IgZnVuY3Rpb24gd2hpY2ggaXMgY2FsbGVkIGJldHdlZW4gZWFjaCBhc3luYyBzdGVwIG9mIHRoZSB1cGxvYWQKICogcHJvY2Vzcy4KICogQHBhcmFtIHtzdHJpbmd9IGlucHV0SWQgRWxlbWVudCBJRCBvZiB0aGUgaW5wdXQgZmlsZSBwaWNrZXIgZWxlbWVudC4KICogQHBhcmFtIHtzdHJpbmd9IG91dHB1dElkIEVsZW1lbnQgSUQgb2YgdGhlIG91dHB1dCBkaXNwbGF5LgogKiBAcmV0dXJuIHshSXRlcmFibGU8IU9iamVjdD59IEl0ZXJhYmxlIG9mIG5leHQgc3RlcHMuCiAqLwpmdW5jdGlvbiogdXBsb2FkRmlsZXNTdGVwKGlucHV0SWQsIG91dHB1dElkKSB7CiAgY29uc3QgaW5wdXRFbGVtZW50ID0gZG9jdW1lbnQuZ2V0RWxlbWVudEJ5SWQoaW5wdXRJZCk7CiAgaW5wdXRFbGVtZW50LmRpc2FibGVkID0gZmFsc2U7CgogIGNvbnN0IG91dHB1dEVsZW1lbnQgPSBkb2N1bWVudC5nZXRFbGVtZW50QnlJZChvdXRwdXRJZCk7CiAgb3V0cHV0RWxlbWVudC5pbm5lckhUTUwgPSAnJzsKCiAgY29uc3QgcGlja2VkUHJvbWlzZSA9IG5ldyBQcm9taXNlKChyZXNvbHZlKSA9PiB7CiAgICBpbnB1dEVsZW1lbnQuYWRkRXZlbnRMaXN0ZW5lcignY2hhbmdlJywgKGUpID0+IHsKICAgICAgcmVzb2x2ZShlLnRhcmdldC5maWxlcyk7CiAgICB9KTsKICB9KTsKCiAgY29uc3QgY2FuY2VsID0gZG9jdW1lbnQuY3JlYXRlRWxlbWVudCgnYnV0dG9uJyk7CiAgaW5wdXRFbGVtZW50LnBhcmVudEVsZW1lbnQuYXBwZW5kQ2hpbGQoY2FuY2VsKTsKICBjYW5jZWwudGV4dENvbnRlbnQgPSAnQ2FuY2VsIHVwbG9hZCc7CiAgY29uc3QgY2FuY2VsUHJvbWlzZSA9IG5ldyBQcm9taXNlKChyZXNvbHZlKSA9PiB7CiAgICBjYW5jZWwub25jbGljayA9ICgpID0+IHsKICAgICAgcmVzb2x2ZShudWxsKTsKICAgIH07CiAgfSk7CgogIC8vIENhbmNlbCB1cGxvYWQgaWYgdXNlciBoYXNuJ3QgcGlja2VkIGFueXRoaW5nIGluIHRpbWVvdXQuCiAgY29uc3QgdGltZW91dFByb21pc2UgPSBuZXcgUHJvbWlzZSgocmVzb2x2ZSkgPT4gewogICAgc2V0VGltZW91dCgoKSA9PiB7CiAgICAgIHJlc29sdmUobnVsbCk7CiAgICB9LCBGSUxFX0NIQU5HRV9USU1FT1VUX01TKTsKICB9KTsKCiAgLy8gV2FpdCBmb3IgdGhlIHVzZXIgdG8gcGljayB0aGUgZmlsZXMuCiAgY29uc3QgZmlsZXMgPSB5aWVsZCB7CiAgICBwcm9taXNlOiBQcm9taXNlLnJhY2UoW3BpY2tlZFByb21pc2UsIHRpbWVvdXRQcm9taXNlLCBjYW5jZWxQcm9taXNlXSksCiAgICByZXNwb25zZTogewogICAgICBhY3Rpb246ICdzdGFydGluZycsCiAgICB9CiAgfTsKCiAgaWYgKCFmaWxlcykgewogICAgcmV0dXJuIHsKICAgICAgcmVzcG9uc2U6IHsKICAgICAgICBhY3Rpb246ICdjb21wbGV0ZScsCiAgICAgIH0KICAgIH07CiAgfQoKICBjYW5jZWwucmVtb3ZlKCk7CgogIC8vIERpc2FibGUgdGhlIGlucHV0IGVsZW1lbnQgc2luY2UgZnVydGhlciBwaWNrcyBhcmUgbm90IGFsbG93ZWQuCiAgaW5wdXRFbGVtZW50LmRpc2FibGVkID0gdHJ1ZTsKCiAgZm9yIChjb25zdCBmaWxlIG9mIGZpbGVzKSB7CiAgICBjb25zdCBsaSA9IGRvY3VtZW50LmNyZWF0ZUVsZW1lbnQoJ2xpJyk7CiAgICBsaS5hcHBlbmQoc3BhbihmaWxlLm5hbWUsIHtmb250V2VpZ2h0OiAnYm9sZCd9KSk7CiAgICBsaS5hcHBlbmQoc3BhbigKICAgICAgICBgKCR7ZmlsZS50eXBlIHx8ICduL2EnfSkgLSAke2ZpbGUuc2l6ZX0gYnl0ZXMsIGAgKwogICAgICAgIGBsYXN0IG1vZGlmaWVkOiAkewogICAgICAgICAgICBmaWxlLmxhc3RNb2RpZmllZERhdGUgPyBmaWxlLmxhc3RNb2RpZmllZERhdGUudG9Mb2NhbGVEYXRlU3RyaW5nKCkgOgogICAgICAgICAgICAgICAgICAgICAgICAgICAgICAgICAgICAnbi9hJ30gLSBgKSk7CiAgICBjb25zdCBwZXJjZW50ID0gc3BhbignMCUgZG9uZScpOwogICAgbGkuYXBwZW5kQ2hpbGQocGVyY2VudCk7CgogICAgb3V0cHV0RWxlbWVudC5hcHBlbmRDaGlsZChsaSk7CgogICAgY29uc3QgZmlsZURhdGFQcm9taXNlID0gbmV3IFByb21pc2UoKHJlc29sdmUpID0+IHsKICAgICAgY29uc3QgcmVhZGVyID0gbmV3IEZpbGVSZWFkZXIoKTsKICAgICAgcmVhZGVyLm9ubG9hZCA9IChlKSA9PiB7CiAgICAgICAgcmVzb2x2ZShlLnRhcmdldC5yZXN1bHQpOwogICAgICB9OwogICAgICByZWFkZXIucmVhZEFzQXJyYXlCdWZmZXIoZmlsZSk7CiAgICB9KTsKICAgIC8vIFdhaXQgZm9yIHRoZSBkYXRhIHRvIGJlIHJlYWR5LgogICAgbGV0IGZpbGVEYXRhID0geWllbGQgewogICAgICBwcm9taXNlOiBmaWxlRGF0YVByb21pc2UsCiAgICAgIHJlc3BvbnNlOiB7CiAgICAgICAgYWN0aW9uOiAnY29udGludWUnLAogICAgICB9CiAgICB9OwoKICAgIC8vIFVzZSBhIGNodW5rZWQgc2VuZGluZyB0byBhdm9pZCBtZXNzYWdlIHNpemUgbGltaXRzLiBTZWUgYi82MjExNTY2MC4KICAgIGxldCBwb3NpdGlvbiA9IDA7CiAgICB3aGlsZSAocG9zaXRpb24gPCBmaWxlRGF0YS5ieXRlTGVuZ3RoKSB7CiAgICAgIGNvbnN0IGxlbmd0aCA9IE1hdGgubWluKGZpbGVEYXRhLmJ5dGVMZW5ndGggLSBwb3NpdGlvbiwgTUFYX1BBWUxPQURfU0laRSk7CiAgICAgIGNvbnN0IGNodW5rID0gbmV3IFVpbnQ4QXJyYXkoZmlsZURhdGEsIHBvc2l0aW9uLCBsZW5ndGgpOwogICAgICBwb3NpdGlvbiArPSBsZW5ndGg7CgogICAgICBjb25zdCBiYXNlNjQgPSBidG9hKFN0cmluZy5mcm9tQ2hhckNvZGUuYXBwbHkobnVsbCwgY2h1bmspKTsKICAgICAgeWllbGQgewogICAgICAgIHJlc3BvbnNlOiB7CiAgICAgICAgICBhY3Rpb246ICdhcHBlbmQnLAogICAgICAgICAgZmlsZTogZmlsZS5uYW1lLAogICAgICAgICAgZGF0YTogYmFzZTY0LAogICAgICAgIH0sCiAgICAgIH07CiAgICAgIHBlcmNlbnQudGV4dENvbnRlbnQgPQogICAgICAgICAgYCR7TWF0aC5yb3VuZCgocG9zaXRpb24gLyBmaWxlRGF0YS5ieXRlTGVuZ3RoKSAqIDEwMCl9JSBkb25lYDsKICAgIH0KICB9CgogIC8vIEFsbCBkb25lLgogIHlpZWxkIHsKICAgIHJlc3BvbnNlOiB7CiAgICAgIGFjdGlvbjogJ2NvbXBsZXRlJywKICAgIH0KICB9Owp9CgpzY29wZS5nb29nbGUgPSBzY29wZS5nb29nbGUgfHwge307CnNjb3BlLmdvb2dsZS5jb2xhYiA9IHNjb3BlLmdvb2dsZS5jb2xhYiB8fCB7fTsKc2NvcGUuZ29vZ2xlLmNvbGFiLl9maWxlcyA9IHsKICBfdXBsb2FkRmlsZXMsCiAgX3VwbG9hZEZpbGVzQ29udGludWUsCn07Cn0pKHNlbGYpOwo=",
              "headers": [
                [
                  "content-type",
                  "application/javascript"
                ]
              ],
              "ok": true,
              "status": 200,
              "status_text": "OK"
            }
          },
          "base_uri": "https://localhost:8080/",
          "height": 100
        }
      },
      "source": [
        "uploaded = files.upload()\n",
        "\n",
        "for fn in uploaded.keys():\n",
        "  print('User uploaded file \"{name}\" with length {length} bytes'.format(name=fn, length=len(uploaded[fn])))"
      ],
      "execution_count": 0,
      "outputs": [
        {
          "output_type": "display_data",
          "data": {
            "text/html": [
              "\n",
              "     <input type=\"file\" id=\"files-fa476756-cca0-4e41-bd31-f1c03f6d9ca1\" name=\"files[]\" multiple disabled />\n",
              "     <output id=\"result-fa476756-cca0-4e41-bd31-f1c03f6d9ca1\">\n",
              "      Upload widget is only available when the cell has been executed in the\n",
              "      current browser session. Please rerun this cell to enable.\n",
              "      </output>\n",
              "      <script src=\"/nbextensions/google.colab/files.js\"></script> "
            ],
            "text/plain": [
              "<IPython.core.display.HTML object>"
            ]
          },
          "metadata": {
            "tags": []
          }
        },
        {
          "output_type": "stream",
          "text": [
            "Saving freesurferData.csv to freesurferData (1).csv\n",
            "User uploaded file \"freesurferData.csv\" with length 2735 bytes\n"
          ],
          "name": "stdout"
        }
      ]
    },
    {
      "cell_type": "markdown",
      "metadata": {
        "colab_type": "text",
        "id": "_-l3-DNczoC5"
      },
      "source": [
        "Then, upload the participants.tsv file."
      ]
    },
    {
      "cell_type": "code",
      "metadata": {
        "colab_type": "code",
        "id": "whliHlezdPVr",
        "outputId": "f3a3358f-840c-48a2-bfb9-76bfddb3f1dc",
        "colab": {
          "resources": {
            "http://localhost:8080/nbextensions/google.colab/files.js": {
              "data": "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",
              "headers": [
                [
                  "content-type",
                  "application/javascript"
                ]
              ],
              "ok": true,
              "status": 200,
              "status_text": "OK"
            }
          },
          "base_uri": "https://localhost:8080/",
          "height": 100
        }
      },
      "source": [
        "uploaded = files.upload()\n",
        "\n",
        "for fn2 in uploaded.keys():\n",
        "  print('User uploaded file \"{name}\" with length {length} bytes'.format(name=fn2, length=len(uploaded[fn2])))"
      ],
      "execution_count": 0,
      "outputs": [
        {
          "output_type": "display_data",
          "data": {
            "text/html": [
              "\n",
              "     <input type=\"file\" id=\"files-744b3e72-3566-4000-af6d-db09f16157a7\" name=\"files[]\" multiple disabled />\n",
              "     <output id=\"result-744b3e72-3566-4000-af6d-db09f16157a7\">\n",
              "      Upload widget is only available when the cell has been executed in the\n",
              "      current browser session. Please rerun this cell to enable.\n",
              "      </output>\n",
              "      <script src=\"/nbextensions/google.colab/files.js\"></script> "
            ],
            "text/plain": [
              "<IPython.core.display.HTML object>"
            ]
          },
          "metadata": {
            "tags": []
          }
        },
        {
          "output_type": "stream",
          "text": [
            "Saving participants(1).tsv to participants(1).tsv\n",
            "User uploaded file \"participants(1).tsv\" with length 45 bytes\n"
          ],
          "name": "stdout"
        }
      ]
    },
    {
      "cell_type": "code",
      "metadata": {
        "colab_type": "code",
        "id": "X3dIqTAdbwTt",
        "colab": {}
      },
      "source": [
        "freesurfer_data_df = pd.read_csv(fn)\n",
        "participants_df = pd.read_csv(fn2, sep='\\t')\n",
        "\n",
        "dataset_df = pd.merge(freesurfer_data_df, participants_df, on='Participant_ID')"
      ],
      "execution_count": 0,
      "outputs": []
    },
    {
      "cell_type": "code",
      "metadata": {
        "colab_type": "code",
        "id": "SgWfFTNJiTx0",
        "outputId": "c38aaa36-8ec0-4c8c-d26f-03edeea7c103",
        "colab": {
          "base_uri": "https://localhost:8080/",
          "height": 182
        }
      },
      "source": [
        "dataset_df"
      ],
      "execution_count": 0,
      "outputs": [
        {
          "output_type": "execute_result",
          "data": {
            "text/html": [
              "<div>\n",
              "<style scoped>\n",
              "    .dataframe tbody tr th:only-of-type {\n",
              "        vertical-align: middle;\n",
              "    }\n",
              "\n",
              "    .dataframe tbody tr th {\n",
              "        vertical-align: top;\n",
              "    }\n",
              "\n",
              "    .dataframe thead th {\n",
              "        text-align: right;\n",
              "    }\n",
              "</style>\n",
              "<table border=\"1\" class=\"dataframe\">\n",
              "  <thead>\n",
              "    <tr style=\"text-align: right;\">\n",
              "      <th></th>\n",
              "      <th>Participant_ID</th>\n",
              "      <th>EstimatedTotalIntraCranialVol</th>\n",
              "      <th>Left-Lateral-Ventricle</th>\n",
              "      <th>Left-Inf-Lat-Vent</th>\n",
              "      <th>Left-Cerebellum-White-Matter</th>\n",
              "      <th>Left-Cerebellum-Cortex</th>\n",
              "      <th>Left-Thalamus-Proper</th>\n",
              "      <th>Left-Caudate</th>\n",
              "      <th>Left-Putamen</th>\n",
              "      <th>Left-Pallidum</th>\n",
              "      <th>3rd-Ventricle</th>\n",
              "      <th>4th-Ventricle</th>\n",
              "      <th>Brain-Stem</th>\n",
              "      <th>Left-Hippocampus</th>\n",
              "      <th>Left-Amygdala</th>\n",
              "      <th>CSF</th>\n",
              "      <th>Left-Accumbens-area</th>\n",
              "      <th>Left-VentralDC</th>\n",
              "      <th>Right-Lateral-Ventricle</th>\n",
              "      <th>Right-Inf-Lat-Vent</th>\n",
              "      <th>Right-Cerebellum-White-Matter</th>\n",
              "      <th>Right-Cerebellum-Cortex</th>\n",
              "      <th>Right-Thalamus-Proper</th>\n",
              "      <th>Right-Caudate</th>\n",
              "      <th>Right-Putamen</th>\n",
              "      <th>Right-Pallidum</th>\n",
              "      <th>Right-Hippocampus</th>\n",
              "      <th>Right-Amygdala</th>\n",
              "      <th>Right-Accumbens-area</th>\n",
              "      <th>Right-VentralDC</th>\n",
              "      <th>CC_Posterior</th>\n",
              "      <th>CC_Mid_Posterior</th>\n",
              "      <th>CC_Central</th>\n",
              "      <th>CC_Mid_Anterior</th>\n",
              "      <th>CC_Anterior</th>\n",
              "      <th>lh_bankssts_volume</th>\n",
              "      <th>lh_caudalanteriorcingulate_volume</th>\n",
              "      <th>lh_caudalmiddlefrontal_volume</th>\n",
              "      <th>lh_cuneus_volume</th>\n",
              "      <th>lh_entorhinal_volume</th>\n",
              "      <th>...</th>\n",
              "      <th>lh_frontalpole_volume</th>\n",
              "      <th>lh_temporalpole_volume</th>\n",
              "      <th>lh_transversetemporal_volume</th>\n",
              "      <th>lh_insula_volume</th>\n",
              "      <th>rh_bankssts_volume</th>\n",
              "      <th>rh_caudalanteriorcingulate_volume</th>\n",
              "      <th>rh_caudalmiddlefrontal_volume</th>\n",
              "      <th>rh_cuneus_volume</th>\n",
              "      <th>rh_entorhinal_volume</th>\n",
              "      <th>rh_fusiform_volume</th>\n",
              "      <th>rh_inferiorparietal_volume</th>\n",
              "      <th>rh_inferiortemporal_volume</th>\n",
              "      <th>rh_isthmuscingulate_volume</th>\n",
              "      <th>rh_lateraloccipital_volume</th>\n",
              "      <th>rh_lateralorbitofrontal_volume</th>\n",
              "      <th>rh_lingual_volume</th>\n",
              "      <th>rh_medialorbitofrontal_volume</th>\n",
              "      <th>rh_middletemporal_volume</th>\n",
              "      <th>rh_parahippocampal_volume</th>\n",
              "      <th>rh_paracentral_volume</th>\n",
              "      <th>rh_parsopercularis_volume</th>\n",
              "      <th>rh_parsorbitalis_volume</th>\n",
              "      <th>rh_parstriangularis_volume</th>\n",
              "      <th>rh_pericalcarine_volume</th>\n",
              "      <th>rh_postcentral_volume</th>\n",
              "      <th>rh_posteriorcingulate_volume</th>\n",
              "      <th>rh_precentral_volume</th>\n",
              "      <th>rh_precuneus_volume</th>\n",
              "      <th>rh_rostralanteriorcingulate_volume</th>\n",
              "      <th>rh_rostralmiddlefrontal_volume</th>\n",
              "      <th>rh_superiorfrontal_volume</th>\n",
              "      <th>rh_superiorparietal_volume</th>\n",
              "      <th>rh_superiortemporal_volume</th>\n",
              "      <th>rh_supramarginal_volume</th>\n",
              "      <th>rh_frontalpole_volume</th>\n",
              "      <th>rh_temporalpole_volume</th>\n",
              "      <th>rh_transversetemporal_volume</th>\n",
              "      <th>rh_insula_volume</th>\n",
              "      <th>Gender</th>\n",
              "      <th>Age</th>\n",
              "    </tr>\n",
              "  </thead>\n",
              "  <tbody>\n",
              "    <tr>\n",
              "      <th>0</th>\n",
              "      <td>sub-X</td>\n",
              "      <td>1</td>\n",
              "      <td>1</td>\n",
              "      <td>1</td>\n",
              "      <td>1</td>\n",
              "      <td>1</td>\n",
              "      <td>1</td>\n",
              "      <td>1</td>\n",
              "      <td>1</td>\n",
              "      <td>1</td>\n",
              "      <td>1</td>\n",
              "      <td>1</td>\n",
              "      <td>1</td>\n",
              "      <td>1</td>\n",
              "      <td>1</td>\n",
              "      <td>1</td>\n",
              "      <td>1</td>\n",
              "      <td>1</td>\n",
              "      <td>1</td>\n",
              "      <td>1</td>\n",
              "      <td>1</td>\n",
              "      <td>1</td>\n",
              "      <td>1</td>\n",
              "      <td>1</td>\n",
              "      <td>1</td>\n",
              "      <td>1</td>\n",
              "      <td>1</td>\n",
              "      <td>1</td>\n",
              "      <td>1</td>\n",
              "      <td>1</td>\n",
              "      <td>1</td>\n",
              "      <td>1</td>\n",
              "      <td>1</td>\n",
              "      <td>1</td>\n",
              "      <td>1</td>\n",
              "      <td>1</td>\n",
              "      <td>1</td>\n",
              "      <td>1</td>\n",
              "      <td>1</td>\n",
              "      <td>1</td>\n",
              "      <td>...</td>\n",
              "      <td>1</td>\n",
              "      <td>1</td>\n",
              "      <td>1</td>\n",
              "      <td>1</td>\n",
              "      <td>1</td>\n",
              "      <td>1</td>\n",
              "      <td>1</td>\n",
              "      <td>1</td>\n",
              "      <td>1</td>\n",
              "      <td>1</td>\n",
              "      <td>1</td>\n",
              "      <td>1</td>\n",
              "      <td>1</td>\n",
              "      <td>1</td>\n",
              "      <td>1</td>\n",
              "      <td>1</td>\n",
              "      <td>1</td>\n",
              "      <td>1</td>\n",
              "      <td>1</td>\n",
              "      <td>1</td>\n",
              "      <td>1</td>\n",
              "      <td>1</td>\n",
              "      <td>1</td>\n",
              "      <td>1</td>\n",
              "      <td>1</td>\n",
              "      <td>1</td>\n",
              "      <td>1</td>\n",
              "      <td>1</td>\n",
              "      <td>1</td>\n",
              "      <td>1</td>\n",
              "      <td>1</td>\n",
              "      <td>1</td>\n",
              "      <td>1</td>\n",
              "      <td>1</td>\n",
              "      <td>1</td>\n",
              "      <td>1</td>\n",
              "      <td>1</td>\n",
              "      <td>1</td>\n",
              "      <td>0</td>\n",
              "      <td>60</td>\n",
              "    </tr>\n",
              "  </tbody>\n",
              "</table>\n",
              "<p>1 rows × 105 columns</p>\n",
              "</div>"
            ],
            "text/plain": [
              "  Participant_ID  EstimatedTotalIntraCranialVol  ...  Gender  Age\n",
              "0          sub-X                              1  ...       0   60\n",
              "\n",
              "[1 rows x 105 columns]"
            ]
          },
          "metadata": {
            "tags": []
          },
          "execution_count": 26
        }
      ]
    },
    {
      "cell_type": "markdown",
      "metadata": {
        "colab_type": "text",
        "id": "qPT20CsLzx83"
      },
      "source": [
        "## Predicting the deviations\n",
        "After loading the data, we predict the deviations of the new data based on our trained normative models.\n",
        "\n",
        "We begin the processing by setting the random seeds."
      ]
    },
    {
      "cell_type": "code",
      "metadata": {
        "colab_type": "code",
        "id": "H4FmSLM5aq5q",
        "colab": {}
      },
      "source": [
        "# Set random seed\n",
        "random_seed = 42\n",
        "tf.random.set_seed(random_seed)\n",
        "np.random.seed(random_seed)"
      ],
      "execution_count": 0,
      "outputs": []
    },
    {
      "cell_type": "markdown",
      "metadata": {
        "colab_type": "text",
        "id": "HJScNag1ik3e"
      },
      "source": [
        "Next, we define the name of the brain regions in the variable COLUMNS_NAME."
      ]
    },
    {
      "cell_type": "code",
      "metadata": {
        "colab_type": "code",
        "id": "N9ymq42YirBj",
        "cellView": "form",
        "colab": {}
      },
      "source": [
        "#@title\n",
        "COLUMNS_NAME = ['Left-Lateral-Ventricle',\n",
        "                'Left-Inf-Lat-Vent',\n",
        "                'Left-Cerebellum-White-Matter',\n",
        "                'Left-Cerebellum-Cortex',\n",
        "                'Left-Thalamus-Proper',\n",
        "                'Left-Caudate',\n",
        "                'Left-Putamen',\n",
        "                'Left-Pallidum',\n",
        "                '3rd-Ventricle',\n",
        "                '4th-Ventricle',\n",
        "                'Brain-Stem',\n",
        "                'Left-Hippocampus',\n",
        "                'Left-Amygdala',\n",
        "                'CSF',\n",
        "                'Left-Accumbens-area',\n",
        "                'Left-VentralDC',\n",
        "                'Right-Lateral-Ventricle',\n",
        "                'Right-Inf-Lat-Vent',\n",
        "                'Right-Cerebellum-White-Matter',\n",
        "                'Right-Cerebellum-Cortex',\n",
        "                'Right-Thalamus-Proper',\n",
        "                'Right-Caudate',\n",
        "                'Right-Putamen',\n",
        "                'Right-Pallidum',\n",
        "                'Right-Hippocampus',\n",
        "                'Right-Amygdala',\n",
        "                'Right-Accumbens-area',\n",
        "                'Right-VentralDC',\n",
        "                'CC_Posterior',\n",
        "                'CC_Mid_Posterior',\n",
        "                'CC_Central',\n",
        "                'CC_Mid_Anterior',\n",
        "                'CC_Anterior',\n",
        "                'lh_bankssts_volume',\n",
        "                'lh_caudalanteriorcingulate_volume',\n",
        "                'lh_caudalmiddlefrontal_volume',\n",
        "                'lh_cuneus_volume',\n",
        "                'lh_entorhinal_volume',\n",
        "                'lh_fusiform_volume',\n",
        "                'lh_inferiorparietal_volume',\n",
        "                'lh_inferiortemporal_volume',\n",
        "                'lh_isthmuscingulate_volume',\n",
        "                'lh_lateraloccipital_volume',\n",
        "                'lh_lateralorbitofrontal_volume',\n",
        "                'lh_lingual_volume',\n",
        "                'lh_medialorbitofrontal_volume',\n",
        "                'lh_middletemporal_volume',\n",
        "                'lh_parahippocampal_volume',\n",
        "                'lh_paracentral_volume',\n",
        "                'lh_parsopercularis_volume',\n",
        "                'lh_parsorbitalis_volume',\n",
        "                'lh_parstriangularis_volume',\n",
        "                'lh_pericalcarine_volume',\n",
        "                'lh_postcentral_volume',\n",
        "                'lh_posteriorcingulate_volume',\n",
        "                'lh_precentral_volume',\n",
        "                'lh_precuneus_volume',\n",
        "                'lh_rostralanteriorcingulate_volume',\n",
        "                'lh_rostralmiddlefrontal_volume',\n",
        "                'lh_superiorfrontal_volume',\n",
        "                'lh_superiorparietal_volume',\n",
        "                'lh_superiortemporal_volume',\n",
        "                'lh_supramarginal_volume',\n",
        "                'lh_frontalpole_volume',\n",
        "                'lh_temporalpole_volume',\n",
        "                'lh_transversetemporal_volume',\n",
        "                'lh_insula_volume',\n",
        "                'rh_bankssts_volume',\n",
        "                'rh_caudalanteriorcingulate_volume',\n",
        "                'rh_caudalmiddlefrontal_volume',\n",
        "                'rh_cuneus_volume',\n",
        "                'rh_entorhinal_volume',\n",
        "                'rh_fusiform_volume',\n",
        "                'rh_inferiorparietal_volume',\n",
        "                'rh_inferiortemporal_volume',\n",
        "                'rh_isthmuscingulate_volume',\n",
        "                'rh_lateraloccipital_volume',\n",
        "                'rh_lateralorbitofrontal_volume',\n",
        "                'rh_lingual_volume',\n",
        "                'rh_medialorbitofrontal_volume',\n",
        "                'rh_middletemporal_volume',\n",
        "                'rh_parahippocampal_volume',\n",
        "                'rh_paracentral_volume',\n",
        "                'rh_parsopercularis_volume',\n",
        "                'rh_parsorbitalis_volume',\n",
        "                'rh_parstriangularis_volume',\n",
        "                'rh_pericalcarine_volume',\n",
        "                'rh_postcentral_volume',\n",
        "                'rh_posteriorcingulate_volume',\n",
        "                'rh_precentral_volume',\n",
        "                'rh_precuneus_volume',\n",
        "                'rh_rostralanteriorcingulate_volume',\n",
        "                'rh_rostralmiddlefrontal_volume',\n",
        "                'rh_superiorfrontal_volume',\n",
        "                'rh_superiorparietal_volume',\n",
        "                'rh_superiortemporal_volume',\n",
        "                'rh_supramarginal_volume',\n",
        "                'rh_frontalpole_volume',\n",
        "                'rh_temporalpole_volume',\n",
        "                'rh_transversetemporal_volume',\n",
        "                'rh_insula_volume']"
      ],
      "execution_count": 0,
      "outputs": []
    },
    {
      "cell_type": "markdown",
      "metadata": {
        "colab_type": "text",
        "id": "bw9sBiGwiBN9"
      },
      "source": [
        "Then, we calculate the relative brain region volumes (original volume divided by the total intracranial volume). "
      ]
    },
    {
      "cell_type": "code",
      "metadata": {
        "colab_type": "code",
        "id": "Ae1dT-5O1Fln",
        "colab": {}
      },
      "source": [
        "# Get the relative brain region volumes\n",
        "x_dataset = dataset_df[COLUMNS_NAME].values\n",
        "\n",
        "tiv = dataset_df['EstimatedTotalIntraCranialVol'].values\n",
        "tiv = tiv[:, np.newaxis]\n",
        "\n",
        "x_dataset = (np.true_divide(x_dataset, tiv)).astype('float32')"
      ],
      "execution_count": 0,
      "outputs": []
    },
    {
      "cell_type": "markdown",
      "metadata": {
        "colab_type": "text",
        "id": "5F8WZKzc1O-v"
      },
      "source": [
        "Next, we iterate over all models performing the calculation of the deviations."
      ]
    },
    {
      "cell_type": "code",
      "metadata": {
        "colab_type": "code",
        "id": "eXcs1zxWaw-w",
        "outputId": "3199249e-7f0f-4965-ecd6-93b8601dacdd",
        "colab": {
          "base_uri": "https://localhost:8080/",
          "height": 34
        }
      },
      "source": [
        "warnings.filterwarnings('ignore')\n",
        "\n",
        "model_dir = Path('models')\n",
        "N_BOOTSTRAP = 1000\n",
        "\n",
        "# Create dataframe to store outputs\n",
        "reconstruction_error_df = pd.DataFrame(columns=['Participant_ID'])\n",
        "reconstruction_error_df['Participant_ID'] = dataset_df['Participant_ID']\n",
        "\n",
        "# ----------------------------------------------------------------------------\n",
        "for i_bootstrap in tqdm(range(N_BOOTSTRAP)):\n",
        "    bootstrap_model_dir = model_dir / '{:03d}'.format(i_bootstrap)\n",
        "\n",
        "    # ----------------------------------------------------------------------------\n",
        "    encoder = keras.models.load_model(bootstrap_model_dir / 'encoder.h5', compile=False)\n",
        "    decoder = keras.models.load_model(bootstrap_model_dir / 'decoder.h5', compile=False)\n",
        "\n",
        "    scaler = joblib.load(bootstrap_model_dir / 'scaler.joblib')\n",
        "\n",
        "    enc_age = joblib.load(bootstrap_model_dir / 'age_encoder.joblib')\n",
        "    enc_gender = joblib.load(bootstrap_model_dir / 'gender_encoder.joblib')\n",
        "\n",
        "    # ----------------------------------------------------------------------------\n",
        "    x_normalized = scaler.transform(x_dataset)\n",
        "\n",
        "    # ----------------------------------------------------------------------------\n",
        "    age = participants_df['Age'].values[:, np.newaxis].astype('float32')\n",
        "    one_hot_age = enc_age.transform(age)\n",
        "\n",
        "    gender = participants_df['Gender'].values[:, np.newaxis].astype('float32')\n",
        "    one_hot_gender = enc_gender.transform(gender)\n",
        "\n",
        "    y_data = np.concatenate((one_hot_age, one_hot_gender), axis=1).astype('float32')\n",
        "\n",
        "    # ----------------------------------------------------------------------------\n",
        "    encoded = encoder(x_normalized, training=False)\n",
        "    reconstruction = decoder(tf.concat([encoded, y_data], axis=1), training=False)\n",
        "\n",
        "    # ----------------------------------------------------------------------------\n",
        "    reconstruction_error = np.mean((x_normalized - reconstruction) ** 2, axis=1)\n",
        "\n",
        "    reconstruction_error_df[('Reconstruction error {:03d}'.format(i_bootstrap))] = reconstruction_error"
      ],
      "execution_count": 0,
      "outputs": [
        {
          "output_type": "stream",
          "text": [
            "100%|██████████| 1000/1000 [02:42<00:00,  5.59it/s]\n"
          ],
          "name": "stderr"
        }
      ]
    },
    {
      "cell_type": "markdown",
      "metadata": {
        "colab_type": "text",
        "id": "Ah4VJ3R1wqwD"
      },
      "source": [
        "Finally, we compute the mean reconstruction error and save the file with the reconstruction errors."
      ]
    },
    {
      "cell_type": "code",
      "metadata": {
        "colab_type": "code",
        "id": "6AEzjpJ3xvia",
        "outputId": "62bdc2bc-ad19-4b69-d3c8-6c0a9a8d54be",
        "colab": {
          "base_uri": "https://localhost:8080/",
          "height": 165
        }
      },
      "source": [
        "reconstruction_error_df[reconstruction_error_df.columns[1:]]"
      ],
      "execution_count": 0,
      "outputs": [
        {
          "output_type": "execute_result",
          "data": {
            "text/html": [
              "<div>\n",
              "<style scoped>\n",
              "    .dataframe tbody tr th:only-of-type {\n",
              "        vertical-align: middle;\n",
              "    }\n",
              "\n",
              "    .dataframe tbody tr th {\n",
              "        vertical-align: top;\n",
              "    }\n",
              "\n",
              "    .dataframe thead th {\n",
              "        text-align: right;\n",
              "    }\n",
              "</style>\n",
              "<table border=\"1\" class=\"dataframe\">\n",
              "  <thead>\n",
              "    <tr style=\"text-align: right;\">\n",
              "      <th></th>\n",
              "      <th>Reconstruction error 000</th>\n",
              "      <th>Reconstruction error 001</th>\n",
              "      <th>Reconstruction error 002</th>\n",
              "      <th>Reconstruction error 003</th>\n",
              "      <th>Reconstruction error 004</th>\n",
              "      <th>Reconstruction error 005</th>\n",
              "      <th>Reconstruction error 006</th>\n",
              "      <th>Reconstruction error 007</th>\n",
              "      <th>Reconstruction error 008</th>\n",
              "      <th>Reconstruction error 009</th>\n",
              "      <th>Reconstruction error 010</th>\n",
              "      <th>Reconstruction error 011</th>\n",
              "      <th>Reconstruction error 012</th>\n",
              "      <th>Reconstruction error 013</th>\n",
              "      <th>Reconstruction error 014</th>\n",
              "      <th>Reconstruction error 015</th>\n",
              "      <th>Reconstruction error 016</th>\n",
              "      <th>Reconstruction error 017</th>\n",
              "      <th>Reconstruction error 018</th>\n",
              "      <th>Reconstruction error 019</th>\n",
              "      <th>Reconstruction error 020</th>\n",
              "      <th>Reconstruction error 021</th>\n",
              "      <th>Reconstruction error 022</th>\n",
              "      <th>Reconstruction error 023</th>\n",
              "      <th>Reconstruction error 024</th>\n",
              "      <th>Reconstruction error 025</th>\n",
              "      <th>Reconstruction error 026</th>\n",
              "      <th>Reconstruction error 027</th>\n",
              "      <th>Reconstruction error 028</th>\n",
              "      <th>Reconstruction error 029</th>\n",
              "      <th>Reconstruction error 030</th>\n",
              "      <th>Reconstruction error 031</th>\n",
              "      <th>Reconstruction error 032</th>\n",
              "      <th>Reconstruction error 033</th>\n",
              "      <th>Reconstruction error 034</th>\n",
              "      <th>Reconstruction error 035</th>\n",
              "      <th>Reconstruction error 036</th>\n",
              "      <th>Reconstruction error 037</th>\n",
              "      <th>Reconstruction error 038</th>\n",
              "      <th>Reconstruction error 039</th>\n",
              "      <th>...</th>\n",
              "      <th>Reconstruction error 961</th>\n",
              "      <th>Reconstruction error 962</th>\n",
              "      <th>Reconstruction error 963</th>\n",
              "      <th>Reconstruction error 964</th>\n",
              "      <th>Reconstruction error 965</th>\n",
              "      <th>Reconstruction error 966</th>\n",
              "      <th>Reconstruction error 967</th>\n",
              "      <th>Reconstruction error 968</th>\n",
              "      <th>Reconstruction error 969</th>\n",
              "      <th>Reconstruction error 970</th>\n",
              "      <th>Reconstruction error 971</th>\n",
              "      <th>Reconstruction error 972</th>\n",
              "      <th>Reconstruction error 973</th>\n",
              "      <th>Reconstruction error 974</th>\n",
              "      <th>Reconstruction error 975</th>\n",
              "      <th>Reconstruction error 976</th>\n",
              "      <th>Reconstruction error 977</th>\n",
              "      <th>Reconstruction error 978</th>\n",
              "      <th>Reconstruction error 979</th>\n",
              "      <th>Reconstruction error 980</th>\n",
              "      <th>Reconstruction error 981</th>\n",
              "      <th>Reconstruction error 982</th>\n",
              "      <th>Reconstruction error 983</th>\n",
              "      <th>Reconstruction error 984</th>\n",
              "      <th>Reconstruction error 985</th>\n",
              "      <th>Reconstruction error 986</th>\n",
              "      <th>Reconstruction error 987</th>\n",
              "      <th>Reconstruction error 988</th>\n",
              "      <th>Reconstruction error 989</th>\n",
              "      <th>Reconstruction error 990</th>\n",
              "      <th>Reconstruction error 991</th>\n",
              "      <th>Reconstruction error 992</th>\n",
              "      <th>Reconstruction error 993</th>\n",
              "      <th>Reconstruction error 994</th>\n",
              "      <th>Reconstruction error 995</th>\n",
              "      <th>Reconstruction error 996</th>\n",
              "      <th>Reconstruction error 997</th>\n",
              "      <th>Reconstruction error 998</th>\n",
              "      <th>Reconstruction error 999</th>\n",
              "      <th>Mean reconstruction error</th>\n",
              "    </tr>\n",
              "  </thead>\n",
              "  <tbody>\n",
              "    <tr>\n",
              "      <th>0</th>\n",
              "      <td>6129128.5</td>\n",
              "      <td>8188363.5</td>\n",
              "      <td>6999322.0</td>\n",
              "      <td>8110935.5</td>\n",
              "      <td>5648628.5</td>\n",
              "      <td>6696606.5</td>\n",
              "      <td>6936887.0</td>\n",
              "      <td>6159920.0</td>\n",
              "      <td>7883886.5</td>\n",
              "      <td>8537727.0</td>\n",
              "      <td>5652423.0</td>\n",
              "      <td>6833154.5</td>\n",
              "      <td>8965758.0</td>\n",
              "      <td>8104000.5</td>\n",
              "      <td>6174388.0</td>\n",
              "      <td>9297992.0</td>\n",
              "      <td>6418961.0</td>\n",
              "      <td>6529277.5</td>\n",
              "      <td>5207265.5</td>\n",
              "      <td>9261179.0</td>\n",
              "      <td>5435715.0</td>\n",
              "      <td>6821198.5</td>\n",
              "      <td>7760215.5</td>\n",
              "      <td>7767585.0</td>\n",
              "      <td>6809968.0</td>\n",
              "      <td>7069693.0</td>\n",
              "      <td>6632508.0</td>\n",
              "      <td>5753342.5</td>\n",
              "      <td>7384519.0</td>\n",
              "      <td>7024388.0</td>\n",
              "      <td>8395950.0</td>\n",
              "      <td>8533110.0</td>\n",
              "      <td>7690229.0</td>\n",
              "      <td>9777460.0</td>\n",
              "      <td>7335165.0</td>\n",
              "      <td>9271608.0</td>\n",
              "      <td>7323989.0</td>\n",
              "      <td>6412149.0</td>\n",
              "      <td>8741427.0</td>\n",
              "      <td>6134068.0</td>\n",
              "      <td>...</td>\n",
              "      <td>8462356.0</td>\n",
              "      <td>10089921.0</td>\n",
              "      <td>8619269.0</td>\n",
              "      <td>7485154.0</td>\n",
              "      <td>7486969.0</td>\n",
              "      <td>9213075.0</td>\n",
              "      <td>8114171.5</td>\n",
              "      <td>8273368.5</td>\n",
              "      <td>6977540.0</td>\n",
              "      <td>6680825.5</td>\n",
              "      <td>8685008.0</td>\n",
              "      <td>7061287.5</td>\n",
              "      <td>6010654.0</td>\n",
              "      <td>7045269.0</td>\n",
              "      <td>7101691.0</td>\n",
              "      <td>5910197.0</td>\n",
              "      <td>8510224.0</td>\n",
              "      <td>8629757.0</td>\n",
              "      <td>9470961.0</td>\n",
              "      <td>6067601.0</td>\n",
              "      <td>6688925.0</td>\n",
              "      <td>8334940.5</td>\n",
              "      <td>7530201.5</td>\n",
              "      <td>6631097.0</td>\n",
              "      <td>8551725.0</td>\n",
              "      <td>6103410.5</td>\n",
              "      <td>6791622.5</td>\n",
              "      <td>5652656.0</td>\n",
              "      <td>7448338.5</td>\n",
              "      <td>5971359.0</td>\n",
              "      <td>7698442.0</td>\n",
              "      <td>5593649.5</td>\n",
              "      <td>9066223.0</td>\n",
              "      <td>8081986.0</td>\n",
              "      <td>6041619.0</td>\n",
              "      <td>8482620.0</td>\n",
              "      <td>7387022.0</td>\n",
              "      <td>7248365.0</td>\n",
              "      <td>7799061.0</td>\n",
              "      <td>NaN</td>\n",
              "    </tr>\n",
              "  </tbody>\n",
              "</table>\n",
              "<p>1 rows × 1001 columns</p>\n",
              "</div>"
            ],
            "text/plain": [
              "   Reconstruction error 000  ...  Mean reconstruction error\n",
              "0                 6129128.5  ...                        NaN\n",
              "\n",
              "[1 rows x 1001 columns]"
            ]
          },
          "metadata": {
            "tags": []
          },
          "execution_count": 43
        }
      ]
    },
    {
      "cell_type": "code",
      "metadata": {
        "colab_type": "code",
        "id": "n5rJsceowHC_",
        "colab": {}
      },
      "source": [
        "reconstruction_error_df['Mean reconstruction error'] = reconstruction_error_df[reconstruction_error_df.columns[1:]].mean(axis=1)\n",
        "reconstruction_error_df.to_csv('reconstruction_error.csv', index=False)"
      ],
      "execution_count": 0,
      "outputs": []
    },
    {
      "cell_type": "markdown",
      "metadata": {
        "colab_type": "text",
        "id": "3xXjXZlo2DB9"
      },
      "source": [
        "## Download predictions\n",
        "Finally, you can download the result in the \"Files\" tab or executing the cell below."
      ]
    },
    {
      "cell_type": "code",
      "metadata": {
        "colab_type": "code",
        "id": "T-385ko1v0F4",
        "colab": {}
      },
      "source": [
        "files.download('reconstruction_error.csv')"
      ],
      "execution_count": 0,
      "outputs": []
    }
  ]
}
